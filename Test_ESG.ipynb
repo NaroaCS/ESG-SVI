{
 "cells": [
  {
   "cell_type": "code",
   "execution_count": 7,
   "metadata": {},
   "outputs": [
    {
     "name": "stdout",
     "output_type": "stream",
     "text": [
      "        GEOID   Total\n",
      "0  6001400200  0.1494\n",
      "1  6001400300  0.2771\n",
      "2  6001400400  0.2121\n",
      "3  6001400500  0.1184\n",
      "4  6001400600  0.2059\n",
      "        GEOID  PercU18  Total  Perc_two_or_more  Perc_white  Perc_black_afam  \\\n",
      "0  6001400100     15.6   3120               6.0        76.7              3.4   \n",
      "1  6001400200     18.4   2007               9.3        78.6              2.6   \n",
      "2  6001400300     15.6   5051               1.9        74.2              9.1   \n",
      "3  6001400400     18.6   4007               7.6        68.6              7.3   \n",
      "4  6001400500     14.5   4124              15.2        49.4             21.4   \n",
      "\n",
      "   Perc_amindian_alnative  Perc_asian  Perc_hawaii_pi  Perc_other_race  \n",
      "0                     0.0        12.8             0.0              1.1  \n",
      "1                     0.2         8.5             0.0              0.8  \n",
      "2                     0.0        11.7             0.5              2.7  \n",
      "3                     1.1        10.5             0.0              5.0  \n",
      "4                     0.0        10.8             0.5              2.7  \n",
      "          GEOID  jobs_access_pct  education_diversity_pct  \\\n",
      "0  060378004081         0.830531                 0.202880   \n",
      "1  060411242004         0.578893                 0.598638   \n",
      "2  060590626194         0.864071                 0.446241   \n",
      "3  060510001011         0.308717                 0.632135   \n",
      "4  060930002001         0.795137                 0.343637   \n",
      "\n",
      "   hospitality_access_pct  live_work_score_pct  shopping_access_pct  \\\n",
      "0                0.919383             0.883299             0.126099   \n",
      "1                0.191843             0.681238             0.126099   \n",
      "2                0.977108             0.790998             0.776686   \n",
      "3                0.660459             0.348681             0.126099   \n",
      "4                0.259484             0.962623             0.350836   \n",
      "\n",
      "   income_diversity_pct  employment_diversity_pct  income_harmony_pct  \\\n",
      "0              0.550181                  0.202880            0.382523   \n",
      "1              0.029531                  0.598638            0.654294   \n",
      "2              0.199646                  0.446241            0.171581   \n",
      "3              0.962321                  0.632135            0.328893   \n",
      "4              0.802854                  0.343637            0.949690   \n",
      "\n",
      "   edu_harmony_pct  healthcare_access_pct  \\\n",
      "0         0.138386               0.967020   \n",
      "1         0.453311               0.675375   \n",
      "2         0.259183               0.866141   \n",
      "3         0.421711               0.127393   \n",
      "4         0.651578               0.692016   \n",
      "\n",
      "                                            geometry  \n",
      "0  POLYGON ((-118.78754 34.02718, -118.78607 34.0...  \n",
      "1  POLYGON ((-122.48698 37.89919, -122.48416 37.9...  \n",
      "2  POLYGON ((-117.77753 33.53639, -117.77558 33.5...  \n",
      "3  POLYGON ((-118.94597 37.77522, -118.94348 37.7...  \n",
      "4  POLYGON ((-122.25174 41.75805, -122.24754 41.7...  \n"
     ]
    }
   ],
   "source": [
    "#Import\n",
    "import geopandas as gpd\n",
    "import pandas as pd\n",
    "import numpy as np\n",
    "\n",
    "#Read data\n",
    "svi_data = pd.read_csv(\"./CAL_SVI.csv\")\n",
    "demographic_data=pd.read_csv(\"./Demographic_CAL.csv\")\n",
    "esg_data= gpd.read_file('./metrics_06.geojson')\n",
    "\n",
    "\n",
    "#Read heads\n",
    "print(svi_data.head())\n",
    "print(demographic_data.head())\n",
    "print(esg_data.head())"
   ]
  },
  {
   "cell_type": "code",
   "execution_count": 8,
   "metadata": {},
   "outputs": [
    {
     "name": "stdout",
     "output_type": "stream",
     "text": [
      "GEOID          int64\n",
      "SVI_total    float64\n",
      "dtype: object\n",
      "GEOID                       int64\n",
      "PercU18                   float64\n",
      "Total                       int64\n",
      "Perc_two_or_more          float64\n",
      "Perc_white                float64\n",
      "Perc_black_afam           float64\n",
      "Perc_amindian_alnative    float64\n",
      "Perc_asian                float64\n",
      "Perc_hawaii_pi            float64\n",
      "Perc_other_race           float64\n",
      "dtype: object\n"
     ]
    }
   ],
   "source": [
    "svi_data.rename({'Total': 'SVI_total'}, axis=1, inplace=True)\n",
    "print(svi_data.dtypes)\n",
    "print(demographic_data.dtypes)"
   ]
  },
  {
   "cell_type": "code",
   "execution_count": 9,
   "metadata": {},
   "outputs": [
    {
     "name": "stdout",
     "output_type": "stream",
     "text": [
      "GEOID                         object\n",
      "jobs_access_pct              float64\n",
      "education_diversity_pct      float64\n",
      "hospitality_access_pct       float64\n",
      "live_work_score_pct          float64\n",
      "shopping_access_pct          float64\n",
      "income_diversity_pct         float64\n",
      "employment_diversity_pct     float64\n",
      "income_harmony_pct           float64\n",
      "edu_harmony_pct              float64\n",
      "healthcare_access_pct        float64\n",
      "geometry                    geometry\n",
      "dtype: object\n",
      "        GEOID  jobs_access_pct  education_diversity_pct  \\\n",
      "0  6037800408         0.830531                 0.202880   \n",
      "1  6041124200         0.578893                 0.598638   \n",
      "2  6059062619         0.864071                 0.446241   \n",
      "3  6051000101         0.308717                 0.632135   \n",
      "4  6093000200         0.795137                 0.343637   \n",
      "\n",
      "   hospitality_access_pct  live_work_score_pct  shopping_access_pct  \\\n",
      "0                0.919383             0.883299             0.126099   \n",
      "1                0.191843             0.681238             0.126099   \n",
      "2                0.977108             0.790998             0.776686   \n",
      "3                0.660459             0.348681             0.126099   \n",
      "4                0.259484             0.962623             0.350836   \n",
      "\n",
      "   income_diversity_pct  employment_diversity_pct  income_harmony_pct  \\\n",
      "0              0.550181                  0.202880            0.382523   \n",
      "1              0.029531                  0.598638            0.654294   \n",
      "2              0.199646                  0.446241            0.171581   \n",
      "3              0.962321                  0.632135            0.328893   \n",
      "4              0.802854                  0.343637            0.949690   \n",
      "\n",
      "   edu_harmony_pct  healthcare_access_pct  \\\n",
      "0         0.138386               0.967020   \n",
      "1         0.453311               0.675375   \n",
      "2         0.259183               0.866141   \n",
      "3         0.421711               0.127393   \n",
      "4         0.651578               0.692016   \n",
      "\n",
      "                                            geometry  \n",
      "0  POLYGON ((-118.78754 34.02718, -118.78607 34.0...  \n",
      "1  POLYGON ((-122.48698 37.89919, -122.48416 37.9...  \n",
      "2  POLYGON ((-117.77753 33.53639, -117.77558 33.5...  \n",
      "3  POLYGON ((-118.94597 37.77522, -118.94348 37.7...  \n",
      "4  POLYGON ((-122.25174 41.75805, -122.24754 41.7...  \n"
     ]
    }
   ],
   "source": [
    "#Drop last three digits of the ESG data GEOID\n",
    "esg_data['GEOID']=esg_data['GEOID'].apply(str)\n",
    "print(esg_data.dtypes)\n",
    "esg_data['GEOID']=esg_data['GEOID'].str.slice(1, 11)\n",
    "print(esg_data.head())\n"
   ]
  },
  {
   "cell_type": "code",
   "execution_count": 10,
   "metadata": {},
   "outputs": [
    {
     "data": {
      "text/plain": [
       "GEOID                         int64\n",
       "jobs_access_pct             float64\n",
       "education_diversity_pct     float64\n",
       "hospitality_access_pct      float64\n",
       "live_work_score_pct         float64\n",
       "shopping_access_pct         float64\n",
       "income_diversity_pct        float64\n",
       "employment_diversity_pct    float64\n",
       "income_harmony_pct          float64\n",
       "edu_harmony_pct             float64\n",
       "healthcare_access_pct       float64\n",
       "geometry                     object\n",
       "dtype: object"
      ]
     },
     "execution_count": 10,
     "metadata": {},
     "output_type": "execute_result"
    }
   ],
   "source": [
    "esg_data.dtypes\n",
    "esg_data_numeric = esg_data.apply(pd.to_numeric, errors='ignore')\n",
    "esg_data_numeric.dtypes"
   ]
  },
  {
   "cell_type": "code",
   "execution_count": 11,
   "metadata": {},
   "outputs": [],
   "source": [
    "#Save to file\n",
    "esg_data.to_file(\"esg.geojson\", driver=\"GeoJSON\")"
   ]
  },
  {
   "cell_type": "code",
   "execution_count": null,
   "metadata": {},
   "outputs": [],
   "source": [
    "#combine data\n",
    "#esg = gpd.read_file('./esg.geojson')\n",
    "\n",
    "#combined_data = esg\n",
    "#combined_data = combined_data.merge(svi_data, how='left', on='GEOID')\n",
    "#combined_data = combined_data.merge(demographic_data, how='left', on='GEOID')\n",
    "\n",
    "#combined_data"
   ]
  },
  {
   "cell_type": "code",
   "execution_count": 16,
   "metadata": {},
   "outputs": [],
   "source": [
    "#Merge data\n",
    "import json\n",
    "\n",
    "\n",
    "with open('esg.geojson','r') as f:\n",
    "    ct_geojson = json.load(f)\n",
    "\n",
    "dict_svi=svi_data.set_index('GEOID')['SVI_total']\n",
    "\n",
    "dict_total_pop=demographic_data.set_index('GEOID')['Total']\n",
    "dict_two_or_more=demographic_data.set_index('GEOID')['Perc_two_or_more']\n",
    "dict_white=demographic_data.set_index('GEOID')['Perc_white']\n",
    "dict_black=demographic_data.set_index('GEOID')['Perc_black_afam']\n",
    "dict_native=demographic_data.set_index('GEOID')['Perc_amindian_alnative']\n",
    "dict_asian=demographic_data.set_index('GEOID')['Perc_asian']\n",
    "dict_islander=demographic_data.set_index('GEOID')['Perc_hawaii_pi']\n",
    "dict_other=demographic_data.set_index('GEOID')['Perc_other_race']\n",
    "dict_u18=demographic_data.set_index('GEOID')['PercU18']\n",
    "\n",
    "\n",
    "#Loop over GeoJSON features and add the new properties\n",
    "for feat in ct_geojson['features']:\n",
    "    try: \n",
    "        ct_id=feat['properties']['GEOID']\n",
    "        \n",
    "        ct_id=float(ct_id)\n",
    "        \n",
    "        svi=dict_svi[ct_id]\n",
    "        feat['properties']['SVI_total']=str(svi)\n",
    "        \n",
    "        total_pop=dict_total_pop[ct_id]\n",
    "        feat['properties']['Total_pop']=str(total_pop)\n",
    "                                                   \n",
    "        perc_two_or_more=dict_two_or_more[ct_id]\n",
    "        feat['properties']['Perc_two_or_more']=str(perc_two_or_more)\n",
    "        perc_white=dict_white[ct_id]\n",
    "        feat['properties']['Perc_white']=str(perc_white)\n",
    "        perc_black=dict_black[ct_id]\n",
    "        feat['properties']['Perc_black_afam']=str(perc_black)\n",
    "        perc_native=dict_native[ct_id]\n",
    "        feat['properties']['Perc_amindian_alnative']=str(perc_native)\n",
    "        perc_asian=dict_asian[ct_id]\n",
    "        feat['properties']['Perc_asian']=str(perc_asian)\n",
    "        perc_islander=dict_islander[ct_id]\n",
    "        feat['properties']['Perc_hawaii_pi']=str(perc_islander)\n",
    "        perc_other=dict_other[ct_id]\n",
    "        feat['properties']['Perc_other_race']=str(perc_other)\n",
    "        perc_u18=dict_u18[ct_id]\n",
    "        feat['properties']['PercU18']=str(perc_u18)\n",
    "        \n",
    "        \n",
    "    \n",
    "    except KeyError:\n",
    "        pass\n",
    "\n",
    "#Write result to a new file\n",
    "with open('new_combined_CAL.geojson', 'w') as f:\n",
    "    json.dump(ct_geojson, f)"
   ]
  },
  {
   "cell_type": "code",
   "execution_count": null,
   "metadata": {},
   "outputs": [],
   "source": [
    "#See result\n",
    "#combined_data.head()"
   ]
  },
  {
   "cell_type": "code",
   "execution_count": null,
   "metadata": {},
   "outputs": [],
   "source": [
    "#Save to file\n",
    "#combined_data.to_file(\"combined_data.geojson\", driver=\"GeoJSON\")"
   ]
  },
  {
   "cell_type": "code",
   "execution_count": null,
   "metadata": {},
   "outputs": [],
   "source": []
  }
 ],
 "metadata": {
  "kernelspec": {
   "display_name": "Python 3",
   "language": "python",
   "name": "python3"
  },
  "language_info": {
   "codemirror_mode": {
    "name": "ipython",
    "version": 3
   },
   "file_extension": ".py",
   "mimetype": "text/x-python",
   "name": "python",
   "nbconvert_exporter": "python",
   "pygments_lexer": "ipython3",
   "version": "3.6.10"
  }
 },
 "nbformat": 4,
 "nbformat_minor": 4
}
