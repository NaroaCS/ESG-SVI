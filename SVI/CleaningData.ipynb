{
 "cells": [
  {
   "cell_type": "code",
   "execution_count": 17,
   "metadata": {},
   "outputs": [
    {
     "name": "stdout",
     "output_type": "stream",
     "text": [
      "   ST       STATE ST_ABBR  STCNTY   COUNTY        FIPS  \\\n",
      "0   6  CALIFORNIA      CA    6001  Alameda  6001400100   \n",
      "1   6  CALIFORNIA      CA    6001  Alameda  6001400200   \n",
      "2   6  CALIFORNIA      CA    6001  Alameda  6001400300   \n",
      "3   6  CALIFORNIA      CA    6001  Alameda  6001400400   \n",
      "4   6  CALIFORNIA      CA    6001  Alameda  6001400500   \n",
      "\n",
      "                                        LOCATION  AREA_SQMI  E_TOTPOP  \\\n",
      "0  Census Tract 4001, Alameda County, California   2.661918      3115   \n",
      "1  Census Tract 4002, Alameda County, California   0.226472      2025   \n",
      "2  Census Tract 4003, Alameda County, California   0.426971      5000   \n",
      "3  Census Tract 4004, Alameda County, California   0.276301      3843   \n",
      "4  Census Tract 4005, Alameda County, California   0.227919      3786   \n",
      "\n",
      "   M_TOTPOP  ...  F_CROWD  F_NOVEH  F_GROUPQ  F_THEME4  F_TOTAL  E_UNINSUR  \\\n",
      "0       219  ...        0        0         0         0        1         41   \n",
      "1       110  ...        0        0         1         1        1         36   \n",
      "2       311  ...        0        1         0         1        1         60   \n",
      "3       366  ...        0        0         0         0        0        125   \n",
      "4       355  ...        0        0         0         0        0        137   \n",
      "\n",
      "   M_UNINSUR  EP_UNINSUR  MP_UNINSUR  E_DAYPOP  \n",
      "0         28         1.3         0.9      4649  \n",
      "1         35         1.8         1.7      2714  \n",
      "2         54         1.2         1.1      3410  \n",
      "3         69         3.3         1.7      2645  \n",
      "4         88         3.6         2.3      1616  \n",
      "\n",
      "[5 rows x 124 columns]\n",
      "Index(['ST', 'STATE', 'ST_ABBR', 'STCNTY', 'COUNTY', 'FIPS', 'LOCATION',\n",
      "       'AREA_SQMI', 'E_TOTPOP', 'M_TOTPOP',\n",
      "       ...\n",
      "       'F_CROWD', 'F_NOVEH', 'F_GROUPQ', 'F_THEME4', 'F_TOTAL', 'E_UNINSUR',\n",
      "       'M_UNINSUR', 'EP_UNINSUR', 'MP_UNINSUR', 'E_DAYPOP'],\n",
      "      dtype='object', length=124)\n"
     ]
    }
   ],
   "source": [
    "import pandas as pd\n",
    "raw_data = pd.read_csv(\"./California.csv\") \n",
    "print(raw_data.head())\n",
    "print(raw_data.columns) "
   ]
  },
  {
   "cell_type": "code",
   "execution_count": 18,
   "metadata": {},
   "outputs": [
    {
     "name": "stdout",
     "output_type": "stream",
     "text": [
      "<class 'pandas.core.frame.DataFrame'>\n"
     ]
    }
   ],
   "source": [
    "cleaned_data =raw_data.drop(raw_data.columns.difference(['FIPS','RPL_THEMES']), 1)\n",
    "print(type(cleaned_data))"
   ]
  },
  {
   "cell_type": "code",
   "execution_count": 19,
   "metadata": {},
   "outputs": [
    {
     "name": "stdout",
     "output_type": "stream",
     "text": [
      "        GEOID   Total\n",
      "0  6001400200  0.1494\n",
      "1  6001400300  0.2771\n",
      "2  6001400400  0.2121\n",
      "3  6001400500  0.1184\n",
      "4  6001400600  0.2059\n"
     ]
    }
   ],
   "source": [
    "cleaned_data.drop([0, 0], inplace=True)\n",
    "cleaned_data.rename({'FIPS':'GEOID','RPL_THEMES': 'Total'}, axis=1, inplace=True)\n",
    "cleaned_data = cleaned_data.reset_index(drop=True)\n",
    "print(cleaned_data.head())"
   ]
  },
  {
   "cell_type": "code",
   "execution_count": 20,
   "metadata": {},
   "outputs": [
    {
     "name": "stdout",
     "output_type": "stream",
     "text": [
      "<class 'pandas.core.frame.DataFrame'>\n"
     ]
    },
    {
     "data": {
      "text/plain": [
       "GEOID      int64\n",
       "Total    float64\n",
       "dtype: object"
      ]
     },
     "execution_count": 20,
     "metadata": {},
     "output_type": "execute_result"
    }
   ],
   "source": [
    "print(type(cleaned_data))\n",
    "cleaned_data.dtypes\n",
    "cleaned_data_numeric = cleaned_data.apply(pd.to_numeric, errors='ignore')\n",
    "cleaned_data_numeric.dtypes"
   ]
  },
  {
   "cell_type": "code",
   "execution_count": 15,
   "metadata": {},
   "outputs": [],
   "source": [
    "#cleaned_data_numeric['GEOID']=cleaned_data_numeric['FIPS'].apply(str)\n",
    "#cleaned_data_numeric.dtypes"
   ]
  },
  {
   "cell_type": "code",
   "execution_count": 8,
   "metadata": {},
   "outputs": [],
   "source": [
    "#cleaned_data_numeric['FIPS'][6]"
   ]
  },
  {
   "cell_type": "code",
   "execution_count": 21,
   "metadata": {},
   "outputs": [
    {
     "name": "stdout",
     "output_type": "stream",
     "text": [
      "        GEOID   Total\n",
      "0  6001400200  0.1494\n",
      "1  6001400300  0.2771\n",
      "2  6001400400  0.2121\n",
      "3  6001400500  0.1184\n",
      "4  6001400600  0.2059\n"
     ]
    }
   ],
   "source": [
    "print(cleaned_data_numeric.head())\n",
    "    \n",
    "cleaned_data_numeric.to_csv('CAL_SVI.csv', index = False)"
   ]
  },
  {
   "cell_type": "code",
   "execution_count": null,
   "metadata": {},
   "outputs": [],
   "source": []
  }
 ],
 "metadata": {
  "kernelspec": {
   "display_name": "Python 3",
   "language": "python",
   "name": "python3"
  },
  "language_info": {
   "codemirror_mode": {
    "name": "ipython",
    "version": 3
   },
   "file_extension": ".py",
   "mimetype": "text/x-python",
   "name": "python",
   "nbconvert_exporter": "python",
   "pygments_lexer": "ipython3",
   "version": "3.6.10"
  }
 },
 "nbformat": 4,
 "nbformat_minor": 2
}
