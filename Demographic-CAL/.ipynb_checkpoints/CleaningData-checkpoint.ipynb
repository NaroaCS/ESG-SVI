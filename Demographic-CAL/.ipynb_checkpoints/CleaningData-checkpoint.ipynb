{
 "cells": [
  {
   "cell_type": "code",
   "execution_count": 1,
   "metadata": {},
   "outputs": [
    {
     "name": "stdout",
     "output_type": "stream",
     "text": [
      "                 GEO_ID                                           NAME  \\\n",
      "0                    id                           Geographic Area Name   \n",
      "1  1400000US06001400100  Census Tract 4001, Alameda County, California   \n",
      "2  1400000US06001400200  Census Tract 4002, Alameda County, California   \n",
      "3  1400000US06001400300  Census Tract 4003, Alameda County, California   \n",
      "4  1400000US06001400400  Census Tract 4004, Alameda County, California   \n",
      "\n",
      "                                DP05_0001E  \\\n",
      "0  Estimate!!SEX AND AGE!!Total population   \n",
      "1                                     3120   \n",
      "2                                     2007   \n",
      "3                                     5051   \n",
      "4                                     4007   \n",
      "\n",
      "                                       DP05_0001M  \\\n",
      "0  Margin of Error!!SEX AND AGE!!Total population   \n",
      "1                                             208   \n",
      "2                                             120   \n",
      "3                                             309   \n",
      "4                                             344   \n",
      "\n",
      "                              DP05_0001PE  \\\n",
      "0  Percent!!SEX AND AGE!!Total population   \n",
      "1                                    3120   \n",
      "2                                    2007   \n",
      "3                                    5051   \n",
      "4                                    4007   \n",
      "\n",
      "                                         DP05_0001PM  \\\n",
      "0  Percent Margin of Error!!SEX AND AGE!!Total po...   \n",
      "1                                                (X)   \n",
      "2                                                (X)   \n",
      "3                                                (X)   \n",
      "4                                                (X)   \n",
      "\n",
      "                                      DP05_0002E  \\\n",
      "0  Estimate!!SEX AND AGE!!Total population!!Male   \n",
      "1                                           1489   \n",
      "2                                            956   \n",
      "3                                           2396   \n",
      "4                                           1760   \n",
      "\n",
      "                                          DP05_0002M  \\\n",
      "0  Margin of Error!!SEX AND AGE!!Total population...   \n",
      "1                                                151   \n",
      "2                                                 98   \n",
      "3                                                240   \n",
      "4                                                188   \n",
      "\n",
      "                                    DP05_0002PE  \\\n",
      "0  Percent!!SEX AND AGE!!Total population!!Male   \n",
      "1                                          47.7   \n",
      "2                                          47.6   \n",
      "3                                          47.4   \n",
      "4                                          43.9   \n",
      "\n",
      "                                         DP05_0002PM  ...  \\\n",
      "0  Percent Margin of Error!!SEX AND AGE!!Total po...  ...   \n",
      "1                                                3.6  ...   \n",
      "2                                                3.3  ...   \n",
      "3                                                4.2  ...   \n",
      "4                                                3.7  ...   \n",
      "\n",
      "                                         DP05_0087PE  \\\n",
      "0  Percent!!CITIZEN, VOTING AGE POPULATION!!Citiz...   \n",
      "1                                               2435   \n",
      "2                                               1541   \n",
      "3                                               3946   \n",
      "4                                               2979   \n",
      "\n",
      "                                         DP05_0087PM  \\\n",
      "0  Percent Margin of Error!!CITIZEN, VOTING AGE P...   \n",
      "1                                                (X)   \n",
      "2                                                (X)   \n",
      "3                                                (X)   \n",
      "4                                                (X)   \n",
      "\n",
      "                                          DP05_0088E  \\\n",
      "0  Estimate!!CITIZEN, VOTING AGE POPULATION!!Citi...   \n",
      "1                                               1210   \n",
      "2                                                729   \n",
      "3                                               1956   \n",
      "4                                               1271   \n",
      "\n",
      "                                          DP05_0088M  \\\n",
      "0  Margin of Error!!CITIZEN, VOTING AGE POPULATIO...   \n",
      "1                                                151   \n",
      "2                                                 81   \n",
      "3                                                213   \n",
      "4                                                161   \n",
      "\n",
      "                                         DP05_0088PE  \\\n",
      "0  Percent!!CITIZEN, VOTING AGE POPULATION!!Citiz...   \n",
      "1                                               49.7   \n",
      "2                                               47.3   \n",
      "3                                               49.6   \n",
      "4                                               42.7   \n",
      "\n",
      "                                         DP05_0088PM  \\\n",
      "0  Percent Margin of Error!!CITIZEN, VOTING AGE P...   \n",
      "1                                                4.6   \n",
      "2                                                3.3   \n",
      "3                                                4.4   \n",
      "4                                                4.8   \n",
      "\n",
      "                                          DP05_0089E  \\\n",
      "0  Estimate!!CITIZEN, VOTING AGE POPULATION!!Citi...   \n",
      "1                                               1225   \n",
      "2                                                812   \n",
      "3                                               1990   \n",
      "4                                               1708   \n",
      "\n",
      "                                          DP05_0089M  \\\n",
      "0  Margin of Error!!CITIZEN, VOTING AGE POPULATIO...   \n",
      "1                                                158   \n",
      "2                                                 62   \n",
      "3                                                254   \n",
      "4                                                222   \n",
      "\n",
      "                                         DP05_0089PE  \\\n",
      "0  Percent!!CITIZEN, VOTING AGE POPULATION!!Citiz...   \n",
      "1                                               50.3   \n",
      "2                                               52.7   \n",
      "3                                               50.4   \n",
      "4                                               57.3   \n",
      "\n",
      "                                         DP05_0089PM  \n",
      "0  Percent Margin of Error!!CITIZEN, VOTING AGE P...  \n",
      "1                                                4.6  \n",
      "2                                                3.3  \n",
      "3                                                4.4  \n",
      "4                                                4.8  \n",
      "\n",
      "[5 rows x 358 columns]\n",
      "Index(['GEO_ID', 'NAME', 'DP05_0001E', 'DP05_0001M', 'DP05_0001PE',\n",
      "       'DP05_0001PM', 'DP05_0002E', 'DP05_0002M', 'DP05_0002PE', 'DP05_0002PM',\n",
      "       ...\n",
      "       'DP05_0087PE', 'DP05_0087PM', 'DP05_0088E', 'DP05_0088M', 'DP05_0088PE',\n",
      "       'DP05_0088PM', 'DP05_0089E', 'DP05_0089M', 'DP05_0089PE',\n",
      "       'DP05_0089PM'],\n",
      "      dtype='object', length=358)\n"
     ]
    },
    {
     "name": "stderr",
     "output_type": "stream",
     "text": [
      "/Users/naroacorettisanchez/anaconda3/envs/py36/lib/python3.6/site-packages/IPython/core/interactiveshell.py:3072: DtypeWarning: Columns (2,3,4,6,7,10,11,18,19,22,23,26,27,30,31,34,35,38,39,42,43,46,47,50,51,54,55,58,59,62,63,66,67,74,75,78,79,82,83,86,87,90,91,94,95,98,99,100,102,103,106,107,114,115,116,118,119,122,123,130,131,132,134,135,138,139,142,143,146,147,150,151,154,155,158,159,162,163,166,167,170,171,174,175,178,179,182,183,186,187,190,191,194,195,198,199,202,203,206,207,210,211,214,215,218,219,222,223,226,227,230,231,234,235,238,239,242,243,246,247,250,251,252,254,255,258,259,262,263,266,267,270,271,274,275,278,279,280,282,283,286,287,290,291,294,295,298,299,302,303,306,307,310,311,314,315,318,319,322,323,326,327,330,331,334,335,338,339,342,343,346,347,348,350,351,354,355) have mixed types.Specify dtype option on import or set low_memory=False.\n",
      "  interactivity=interactivity, compiler=compiler, result=result)\n"
     ]
    }
   ],
   "source": [
    "import pandas as pd\n",
    "raw_data = pd.read_csv(\"./Demographic_CAL_raw.csv\") #importing CSV to DF\n",
    "print(raw_data.head())\n",
    "print(raw_data.columns) # This has a lot of columns! Take a look at the data dictionary \"R12438492.txt\" and think about what columns you will need for this project"
   ]
  },
  {
   "cell_type": "code",
   "execution_count": 2,
   "metadata": {},
   "outputs": [
    {
     "name": "stdout",
     "output_type": "stream",
     "text": [
      "<class 'pandas.core.frame.DataFrame'>\n",
      "Index(['GEO_ID', 'DP05_0019PE', 'DP05_0033E', 'DP05_0035PE', 'DP05_0037PE',\n",
      "       'DP05_0038PE', 'DP05_0039PE', 'DP05_0044PE', 'DP05_0052PE',\n",
      "       'DP05_0057PE'],\n",
      "      dtype='object')\n"
     ]
    }
   ],
   "source": [
    "#YOUR CODE HERE\n",
    "cleaned_data =raw_data.drop(raw_data.columns.difference(['GEO_ID', 'DP05_0019PE','DP05_0033E','DP05_0035PE','DP05_0037PE','DP05_0038PE','DP05_0039PE','DP05_0044PE','DP05_0052PE','DP05_0057PE']), 1)\n",
    "print(type(cleaned_data))\n",
    "print(cleaned_data.columns)"
   ]
  },
  {
   "cell_type": "code",
   "execution_count": 3,
   "metadata": {},
   "outputs": [
    {
     "name": "stdout",
     "output_type": "stream",
     "text": [
      "                 GEO_ID PercU18 Total Perc_two_or_more Perc_white  \\\n",
      "0  1400000US06001400100    15.6  3120              6.0       76.7   \n",
      "1  1400000US06001400200    18.4  2007              9.3       78.6   \n",
      "2  1400000US06001400300    15.6  5051              1.9       74.2   \n",
      "3  1400000US06001400400    18.6  4007              7.6       68.6   \n",
      "4  1400000US06001400500    14.5  4124             15.2       49.4   \n",
      "\n",
      "  Perc_black_afam Perc_amindian_alnative Perc_asian Perc_hawaii_pi  \\\n",
      "0             3.4                    0.0       12.8            0.0   \n",
      "1             2.6                    0.2        8.5            0.0   \n",
      "2             9.1                    0.0       11.7            0.5   \n",
      "3             7.3                    1.1       10.5            0.0   \n",
      "4            21.4                    0.0       10.8            0.5   \n",
      "\n",
      "  Perc_other_race  \n",
      "0             1.1  \n",
      "1             0.8  \n",
      "2             2.7  \n",
      "3             5.0  \n",
      "4             2.7  \n"
     ]
    }
   ],
   "source": [
    "#steps: a) call DataFrame.head() to check out what your data looks like:\n",
    "#         hint: is the first row also data you need? remove the first row if you don't need them\n",
    "#YOUR CODE HERE\n",
    "#celeaned_data['Percentage']\n",
    "\n",
    "cleaned_data.drop([0, 0], inplace=True)\n",
    "cleaned_data.rename({'DP05_0033E':'Total', 'DP05_0035PE':'Perc_two_or_more', 'DP05_0037PE':'Perc_white', 'DP05_0038PE':'Perc_black_afam',\n",
    "       'DP05_0039PE':'Perc_amindian_alnative', 'DP05_0044PE':'Perc_asian', 'DP05_0052PE':'Perc_hawaii_pi', 'DP05_0057PE':'Perc_other_race',\n",
    "        'DP05_0019PE':'PercU18'}, axis=1, inplace=True)\n",
    "cleaned_data = cleaned_data.reset_index(drop=True)\n",
    "print(cleaned_data.head())"
   ]
  },
  {
   "cell_type": "code",
   "execution_count": 4,
   "metadata": {},
   "outputs": [
    {
     "name": "stdout",
     "output_type": "stream",
     "text": [
      "<class 'pandas.core.frame.DataFrame'>\n"
     ]
    },
    {
     "data": {
      "text/plain": [
       "GEO_ID                     object\n",
       "PercU18                   float64\n",
       "Total                       int64\n",
       "Perc_two_or_more          float64\n",
       "Perc_white                float64\n",
       "Perc_black_afam           float64\n",
       "Perc_amindian_alnative    float64\n",
       "Perc_asian                float64\n",
       "Perc_hawaii_pi            float64\n",
       "Perc_other_race           float64\n",
       "dtype: object"
      ]
     },
     "execution_count": 4,
     "metadata": {},
     "output_type": "execute_result"
    }
   ],
   "source": [
    "# Step b) you may want to reset_index() so that your index begins with 0 if you remove any rows\n",
    "#YOUR CODE HERE\n",
    "\n",
    "print(type(cleaned_data))\n",
    "cols = cleaned_data.columns.drop('GEO_ID')\n",
    "cleaned_data[cols] = cleaned_data[cols].apply(pd.to_numeric, errors='coerce')\n",
    "cleaned_data.dtypes"
   ]
  },
  {
   "cell_type": "code",
   "execution_count": 5,
   "metadata": {},
   "outputs": [
    {
     "name": "stdout",
     "output_type": "stream",
     "text": [
      "   GEO_ID  PercU18  Total  Perc_two_or_more  Perc_white  Perc_black_afam  \\\n",
      "0  010100      5.1   2973               4.0        91.4              1.9   \n",
      "1  010206     13.1   3617               3.4        90.4              1.9   \n",
      "2  010208      9.0   1122               0.1        96.5              3.4   \n",
      "3  010304      8.2   2394               1.1        92.2              1.1   \n",
      "4  010306     14.0   2507               1.7        92.6              2.2   \n",
      "\n",
      "   Perc_amindian_alnative  Perc_asian  Perc_hawaii_pi  Perc_other_race  \n",
      "0                     0.0         1.2             0.0              1.5  \n",
      "1                     0.0         3.3             0.0              1.0  \n",
      "2                     0.0         0.0             0.0              0.0  \n",
      "3                     0.0         5.6             0.0              0.0  \n",
      "4                     0.9         0.7             0.0              1.9  \n"
     ]
    },
    {
     "name": "stderr",
     "output_type": "stream",
     "text": [
      "/Users/naroacorettisanchez/anaconda3/envs/py36/lib/python3.6/site-packages/ipykernel_launcher.py:7: SettingWithCopyWarning: \n",
      "A value is trying to be set on a copy of a slice from a DataFrame\n",
      "\n",
      "See the caveats in the documentation: https://pandas.pydata.org/pandas-docs/stable/user_guide/indexing.html#returning-a-view-versus-a-copy\n",
      "  import sys\n"
     ]
    }
   ],
   "source": [
    "#YOUR CODE HERE\n",
    "cleaned_data['GEO_ID'].dtypes\n",
    "\n",
    "for i in range(len(cleaned_data)):\n",
    "    \n",
    "    county_id=cleaned_data['GEO_ID'][i][11:14]\n",
    "    cleaned_data['GEO_ID'][i]=cleaned_data['GEO_ID'][i][14:]\n",
    "\n",
    "print(cleaned_data.head())\n",
    "    \n",
    "cleaned_data.to_csv('Demographic_MASS.csv', index = False)"
   ]
  },
  {
   "cell_type": "code",
   "execution_count": null,
   "metadata": {},
   "outputs": [],
   "source": [
    "import json\n",
    "\n",
    "with open('Demographic_NY.csv','r') as f:\n",
    "    ct_geojson = json.load(f)\n",
    "\n",
    "\n",
    "internet_dict=cleaned_data_numeric.set_index('GEO_ID')['PercNoAcess']\n",
    "#print(internet_dict[50009001000])\n",
    "\n",
    "#Loop over GeoJSON features and add the new properties\n",
    "for feat in ct_geojson['features']:\n",
    "    try: \n",
    "        ct_id=feat['properties']['boro_ct2010']\n",
    "        perc=internet_dict[ct_id]\n",
    "        feat['properties']['PercentageU18NoAccess']=perc\n",
    "    \n",
    "    except KeyError:\n",
    "        pass\n",
    "\n",
    "#Write result to a new file\n",
    "with open('new.geojson', 'w') as f:\n",
    "    json.dump(ct_geojson, f)"
   ]
  }
 ],
 "metadata": {
  "kernelspec": {
   "display_name": "Python 3",
   "language": "python",
   "name": "python3"
  },
  "language_info": {
   "codemirror_mode": {
    "name": "ipython",
    "version": 3
   },
   "file_extension": ".py",
   "mimetype": "text/x-python",
   "name": "python",
   "nbconvert_exporter": "python",
   "pygments_lexer": "ipython3",
   "version": "3.6.10"
  }
 },
 "nbformat": 4,
 "nbformat_minor": 2
}
